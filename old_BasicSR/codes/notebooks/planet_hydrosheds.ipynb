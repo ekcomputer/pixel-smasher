{
 "cells": [
  {
   "cell_type": "code",
   "execution_count": 1,
   "metadata": {},
   "outputs": [],
   "source": [
    "import numpy as np\n",
    "import matplotlib.pyplot as plt\n",
    "import geemap\n",
    "import ee\n",
    "\n",
    "try:\n",
    "        ee.Initialize()\n",
    "except Exception as e:\n",
    "        ee.Authenticate()\n",
    "        ee.Initialize()"
   ]
  },
  {
   "cell_type": "code",
   "execution_count": 2,
   "metadata": {},
   "outputs": [],
   "source": [
    "Map = geemap.Map()"
   ]
  },
  {
   "cell_type": "code",
   "execution_count": 8,
   "metadata": {},
   "outputs": [],
   "source": [
    "hydrosheds = ee.FeatureCollection('WWF/HydroSHEDS/v1/Basins/hybas_2')\n",
    "\n",
    "scenes1 = ee.FeatureCollection('users/ekyzivat/order-1-coords')\n",
    "scenes2 = ee.FeatureCollection('users/ekyzivat/order-2-coords')\n",
    "scenes3 = ee.FeatureCollection('users/ekyzivat/order-3-coords')\n",
    "scenes4 = ee.FeatureCollection('users/ekyzivat/order-4-coords')\n",
    "scenes = scenes1.merge(scenes2).merge(scenes3).merge(scenes4)\n",
    "\n",
    "def buffer_100km(feature):\n",
    "    return feature.buffer(100000)\n",
    "\n",
    "buffered_scenes = scenes.map(buffer_100km)"
   ]
  },
  {
   "cell_type": "code",
   "execution_count": 9,
   "metadata": {},
   "outputs": [],
   "source": [
    "spatialFilter_nonbuff = ee.Filter.intersects(leftField = '.geo', rightField = '.geo', maxError = 1000)\n",
    "invertedJoin_nonbuff = ee.Join.inverted()\n",
    "invertedJoined_nonbuff = invertedJoin_nonbuff.apply(hydrosheds, scenes, spatialFilter_nonbuff)\n",
    "\n",
    "#spatialFilter_buff = ee.Filter.intersects(leftField = '.geo', rightField = '.geo', maxError = 1000)\n",
    "#invertedJoin_buff = ee.Join.inverted()\n",
    "#invertedJoined_buff = invertedJoin_buff.apply(hydrosheds, buffered_scenes, spatialFilter_buff)\n",
    "\n",
    "#spatialFilter_questioning = ee.Filter.intersects(leftField = '.geo', rightField = '.geo', maxError = 1000)\n",
    "#invertedJoin_questioning = ee.Join.inverted()\n",
    "#invertedJoined_questioning  = invertedJoin_questioning.apply(invertedJoined_buff, invertedJoined_nonbuff, spatialFilter_questioning)\n",
    "\n",
    "#saveAllJoin = ee.Join.saveAll(matchesKey = 'scenes')\n",
    "#aveAllJoined = saveAllJoin.apply(hydrosheds, scenes, spatialFilter)\n",
    "\n",
    "#hydrosheds_scenes = invertedJoined.merge(saveAllJoined)\n",
    "\n",
    "#def scene_per_shed(shed):\n",
    "#    nScenes = ee.List(shed.get('scenes')).size()\n",
    "#    return shed.set('n_scenes', nScenes)\n",
    "\n",
    "#hydrosheds_scenes = hydrosheds_scenes.map(scene_per_shed)"
   ]
  },
  {
   "cell_type": "code",
   "execution_count": 10,
   "metadata": {},
   "outputs": [],
   "source": [
    "Map.addLayer(invertedJoined_nonbuff,{'color': 'black'}, 'non buffered')\n",
    "#Map.addLayer(invertedJoined_buff,{'color': 'red'}, 'buffered')\n",
    "#Map.addLayer(invertedJoined_questioning,{'color': 'green'}, 'question regions')\n",
    "\n",
    "Map.addLayer(scenes, {'color': 'red'})"
   ]
  },
  {
   "cell_type": "code",
   "execution_count": 6,
   "metadata": {},
   "outputs": [
    {
     "name": "stdout",
     "output_type": "stream",
     "text": [
      "Number of missing sheds: 8\n"
     ]
    }
   ],
   "source": [
    "print('Number of missing sheds:', invertedJoined_nonbuff.size().getInfo())"
   ]
  },
  {
   "cell_type": "code",
   "execution_count": 7,
   "metadata": {},
   "outputs": [
    {
     "data": {
      "application/vnd.jupyter.widget-view+json": {
       "model_id": "81e78401d11648bfb89dec7751d1e5f0",
       "version_major": 2,
       "version_minor": 0
      },
      "text/plain": [
       "Map(center=[40, -100], controls=(WidgetControl(options=['position'], widget=HBox(children=(ToggleButton(value=…"
      ]
     },
     "metadata": {},
     "output_type": "display_data"
    }
   ],
   "source": [
    "Map.addLayerControl()\n",
    "Map"
   ]
  },
  {
   "cell_type": "code",
   "execution_count": null,
   "metadata": {},
   "outputs": [],
   "source": []
  }
 ],
 "metadata": {
  "kernelspec": {
   "display_name": "Python 3",
   "language": "python",
   "name": "python3"
  },
  "language_info": {
   "codemirror_mode": {
    "name": "ipython",
    "version": 3
   },
   "file_extension": ".py",
   "mimetype": "text/x-python",
   "name": "python",
   "nbconvert_exporter": "python",
   "pygments_lexer": "ipython3",
   "version": "3.8.5"
  }
 },
 "nbformat": 4,
 "nbformat_minor": 4
}
