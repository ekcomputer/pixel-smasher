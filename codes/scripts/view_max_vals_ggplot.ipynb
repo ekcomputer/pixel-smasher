{
 "cells": [
  {
   "cell_type": "code",
   "execution_count": 25,
   "metadata": {},
   "outputs": [],
   "source": [
    "import numpy as np\n",
    "import pandas as pd\n",
    "import matplotlib.pyplot as plt\n",
    "from cycler import cycler\n",
    "# import ggplot\n",
    "# from plotnine import *"
   ]
  },
  {
   "cell_type": "code",
   "execution_count": 6,
   "metadata": {},
   "outputs": [
    {
     "data": {
      "text/html": [
       "<div>\n",
       "<style scoped>\n",
       "    .dataframe tbody tr th:only-of-type {\n",
       "        vertical-align: middle;\n",
       "    }\n",
       "\n",
       "    .dataframe tbody tr th {\n",
       "        vertical-align: top;\n",
       "    }\n",
       "\n",
       "    .dataframe thead th {\n",
       "        text-align: right;\n",
       "    }\n",
       "</style>\n",
       "<table border=\"1\" class=\"dataframe\">\n",
       "  <thead>\n",
       "    <tr style=\"text-align: right;\">\n",
       "      <th></th>\n",
       "      <th>MAX</th>\n",
       "      <th>MEAN</th>\n",
       "      <th>MIN</th>\n",
       "      <th>Band</th>\n",
       "    </tr>\n",
       "  </thead>\n",
       "  <tbody>\n",
       "    <tr>\n",
       "      <th>0</th>\n",
       "      <td>10249</td>\n",
       "      <td>732.510026</td>\n",
       "      <td>20</td>\n",
       "      <td>B</td>\n",
       "    </tr>\n",
       "    <tr>\n",
       "      <th>1</th>\n",
       "      <td>11913</td>\n",
       "      <td>895.501579</td>\n",
       "      <td>52</td>\n",
       "      <td>G</td>\n",
       "    </tr>\n",
       "    <tr>\n",
       "      <th>2</th>\n",
       "      <td>13954</td>\n",
       "      <td>901.267384</td>\n",
       "      <td>1</td>\n",
       "      <td>R</td>\n",
       "    </tr>\n",
       "    <tr>\n",
       "      <th>3</th>\n",
       "      <td>10939</td>\n",
       "      <td>1386.681495</td>\n",
       "      <td>42</td>\n",
       "      <td>N</td>\n",
       "    </tr>\n",
       "    <tr>\n",
       "      <th>4</th>\n",
       "      <td>2286</td>\n",
       "      <td>492.307092</td>\n",
       "      <td>214</td>\n",
       "      <td>B</td>\n",
       "    </tr>\n",
       "  </tbody>\n",
       "</table>\n",
       "</div>"
      ],
      "text/plain": [
       "     MAX         MEAN  MIN Band\n",
       "0  10249   732.510026   20    B\n",
       "1  11913   895.501579   52    G\n",
       "2  13954   901.267384    1    R\n",
       "3  10939  1386.681495   42    N\n",
       "4   2286   492.307092  214    B"
      ]
     },
     "execution_count": 6,
     "metadata": {},
     "output_type": "execute_result"
    }
   ],
   "source": [
    "pth_in='/data_dir/scene-lists/order-1-stats-max.txt'\n",
    "pth_in='/mnt/g/Planet/api/hist_stats/stats_39.xlsx'\n",
    "df=pd.read_excel(pth_in, sheet_name=1)\n",
    "df.head()"
   ]
  },
  {
   "cell_type": "code",
   "execution_count": 33,
   "metadata": {},
   "outputs": [
    {
     "data": {
      "image/png": "[encoded data removed]",
      "text/plain": [
       "<Figure size 432x288 with 1 Axes>"
      ]
     },
     "metadata": {
      "needs_background": "light"
     },
     "output_type": "display_data"
    }
   ],
   "source": [
    "# use grouping\n",
    "f, ax = plt.subplots()\n",
    "dfb=df.groupby('Band')\n",
    "# dfb.rem\n",
    "dfb.plot.hist(y='MAX',ax=ax, bins=20, alpha=0.5)\n",
    "plt.legend(['B','G','R','N'])\n",
    "# plt.rc('lines', linewidth=4)\n",
    "plt.rc('axes', prop_cycle=(cycler('color', ['y', 'r', 'g', 'b']))) #+cycler('linestyle', ['-', '--', ':', '-.'])))"
   ]
  },
  {
   "cell_type": "code",
   "execution_count": 18,
   "metadata": {
    "collapsed": true,
    "jupyter": {
     "outputs_hidden": true
    }
   },
   "outputs": [
    {
     "data": {
      "text/plain": [
       "\u001b[0;31mSignature:\u001b[0m   \u001b[0mdf\u001b[0m\u001b[0;34m.\u001b[0m\u001b[0mplot\u001b[0m\u001b[0;34m(\u001b[0m\u001b[0;34m*\u001b[0m\u001b[0margs\u001b[0m\u001b[0;34m,\u001b[0m \u001b[0;34m**\u001b[0m\u001b[0mkwargs\u001b[0m\u001b[0;34m)\u001b[0m\u001b[0;34m\u001b[0m\u001b[0;34m\u001b[0m\u001b[0m\n",
       "\u001b[0;31mType:\u001b[0m        PlotAccessor\n",
       "\u001b[0;31mString form:\u001b[0m <pandas.plotting._core.PlotAccessor object at 0x7f039d121850>\n",
       "\u001b[0;31mFile:\u001b[0m        ~/miniconda2/envs/geohack/lib/python3.7/site-packages/pandas/plotting/_core.py\n",
       "\u001b[0;31mDocstring:\u001b[0m  \n",
       "Make plots of Series or DataFrame using the backend specified by the\n",
       "option ``plotting.backend``. By default, matplotlib is used.\n",
       "\n",
       "Parameters\n",
       "----------\n",
       "data : Series or DataFrame\n",
       "    The object for which the method is called\n",
       "x : label or position, default None\n",
       "    Only used if data is a DataFrame.\n",
       "y : label, position or list of label, positions, default None\n",
       "    Allows plotting of one column versus another. Only used if data is a\n",
       "    DataFrame.\n",
       "kind : str\n",
       "    - 'line' : line plot (default)\n",
       "    - 'bar' : vertical bar plot\n",
       "    - 'barh' : horizontal bar plot\n",
       "    - 'hist' : histogram\n",
       "    - 'box' : boxplot\n",
       "    - 'kde' : Kernel Density Estimation plot\n",
       "    - 'density' : same as 'kde'\n",
       "    - 'area' : area plot\n",
       "    - 'pie' : pie plot\n",
       "    - 'scatter' : scatter plot\n",
       "    - 'hexbin' : hexbin plot\n",
       "figsize : a tuple (width, height) in inches\n",
       "use_index : bool, default True\n",
       "    Use index as ticks for x axis\n",
       "title : string or list\n",
       "    Title to use for the plot. If a string is passed, print the string\n",
       "    at the top of the figure. If a list is passed and `subplots` is\n",
       "    True, print each item in the list above the corresponding subplot.\n",
       "grid : bool, default None (matlab style default)\n",
       "    Axis grid lines\n",
       "legend : False/True/'reverse'\n",
       "    Place legend on axis subplots\n",
       "style : list or dict\n",
       "    matplotlib line style per column\n",
       "logx : bool or 'sym', default False\n",
       "    Use log scaling or symlog scaling on x axis\n",
       "    .. versionchanged:: 0.25.0\n",
       "\n",
       "logy : bool or 'sym' default False\n",
       "    Use log scaling or symlog scaling on y axis\n",
       "    .. versionchanged:: 0.25.0\n",
       "\n",
       "loglog : bool or 'sym', default False\n",
       "    Use log scaling or symlog scaling on both x and y axes\n",
       "    .. versionchanged:: 0.25.0\n",
       "\n",
       "xticks : sequence\n",
       "    Values to use for the xticks\n",
       "yticks : sequence\n",
       "    Values to use for the yticks\n",
       "xlim : 2-tuple/list\n",
       "ylim : 2-tuple/list\n",
       "rot : int, default None\n",
       "    Rotation for ticks (xticks for vertical, yticks for horizontal\n",
       "    plots)\n",
       "fontsize : int, default None\n",
       "    Font size for xticks and yticks\n",
       "colormap : str or matplotlib colormap object, default None\n",
       "    Colormap to select colors from. If string, load colormap with that\n",
       "    name from matplotlib.\n",
       "colorbar : bool, optional\n",
       "    If True, plot colorbar (only relevant for 'scatter' and 'hexbin'\n",
       "    plots)\n",
       "position : float\n",
       "    Specify relative alignments for bar plot layout.\n",
       "    From 0 (left/bottom-end) to 1 (right/top-end). Default is 0.5\n",
       "    (center)\n",
       "table : bool, Series or DataFrame, default False\n",
       "    If True, draw a table using the data in the DataFrame and the data\n",
       "    will be transposed to meet matplotlib's default layout.\n",
       "    If a Series or DataFrame is passed, use passed data to draw a\n",
       "    table.\n",
       "yerr : DataFrame, Series, array-like, dict and str\n",
       "    See :ref:`Plotting with Error Bars <visualization.errorbars>` for\n",
       "    detail.\n",
       "xerr : DataFrame, Series, array-like, dict and str\n",
       "    Equivalent to yerr.\n",
       "mark_right : bool, default True\n",
       "    When using a secondary_y axis, automatically mark the column\n",
       "    labels with \"(right)\" in the legend\n",
       "`**kwds` : keywords\n",
       "    Options to pass to matplotlib plotting method\n",
       "\n",
       "Returns\n",
       "-------\n",
       ":class:`matplotlib.axes.Axes` or numpy.ndarray of them\n",
       "    If the backend is not the default matplotlib one, the return value\n",
       "    will be the object returned by the backend.\n",
       "\n",
       "Notes\n",
       "-----\n",
       "- See matplotlib documentation online for more on this subject\n",
       "- If `kind` = 'bar' or 'barh', you can specify relative alignments\n",
       "  for bar plot layout by `position` keyword.\n",
       "  From 0 (left/bottom-end) to 1 (right/top-end). Default is 0.5\n",
       "  (center)\n"
      ]
     },
     "metadata": {},
     "output_type": "display_data"
    }
   ],
   "source": [
    "?df.plot"
   ]
  },
  {
   "cell_type": "code",
   "execution_count": 8,
   "metadata": {},
   "outputs": [
    {
     "data": {
      "image/png": "[encoded data removed]",
      "text/plain": [
       "<Figure size 432x288 with 1 Axes>"
      ]
     },
     "metadata": {
      "needs_background": "light"
     },
     "output_type": "display_data"
    }
   ],
   "source": [
    "f, ax = plt.subplots()\n",
    "df.plot.hist(y='MAX', linewidth=0.5, ax=ax);"
   ]
  }
 ],
 "metadata": {
  "kernelspec": {
   "display_name": "Python [conda env:geohack] *",
   "language": "python",
   "name": "conda-env-geohack-py"
  },
  "language_info": {
   "codemirror_mode": {
    "name": "ipython",
    "version": 3
   },
   "file_extension": ".py",
   "mimetype": "text/x-python",
   "name": "python",
   "nbconvert_exporter": "python",
   "pygments_lexer": "ipython3",
   "version": "3.7.6"
  }
 },
 "nbformat": 4,
 "nbformat_minor": 4
}
